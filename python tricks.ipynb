{
 "cells": [
  {
   "cell_type": "markdown",
   "metadata": {},
   "source": [
    "# +40 python Tips and Tricks Every Developer Should know"
   ]
  },
  {
   "cell_type": "markdown",
   "metadata": {},
   "source": [
    "# 1. Swap Operation"
   ]
  },
  {
   "cell_type": "code",
   "execution_count": 27,
   "metadata": {},
   "outputs": [
    {
     "name": "stdout",
     "output_type": "stream",
     "text": [
      "\n",
      " a= 2 b= 1\n"
     ]
    }
   ],
   "source": [
    "# swap operation\n",
    "a, b = 1, 2\n",
    "a, b = b, a\n",
    "print('\\n', \"a=\",  a, \"b=\",  b)"
   ]
  },
  {
   "cell_type": "markdown",
   "metadata": {},
   "source": [
    "# 2. Assign List\n",
    "a ==> 1 (first elecment in the list)\n",
    "\n",
    "c ==> 5 (Last items in the list)\n",
    "\n",
    "b ==> the numbers between them as list [2,3,4]"
   ]
  },
  {
   "cell_type": "code",
   "execution_count": 28,
   "metadata": {},
   "outputs": [
    {
     "name": "stdout",
     "output_type": "stream",
     "text": [
      "\n",
      " 1 [2, 3, 4] 5\n"
     ]
    }
   ],
   "source": [
    "a, *b , c = [1, 2, 3, 4, 5]\n",
    "print('\\n', a, b, c)"
   ]
  },
  {
   "cell_type": "markdown",
   "metadata": {},
   "source": [
    "# 3. Print Format"
   ]
  },
  {
   "cell_type": "code",
   "execution_count": 29,
   "metadata": {},
   "outputs": [
    {
     "name": "stdout",
     "output_type": "stream",
     "text": [
      "my Name is  SAIF and my age is 32\n",
      "my Name is  SAIF and my age is 32\n"
     ]
    }
   ],
   "source": [
    "name =' SAIF'\n",
    "age = 32\n",
    "\n",
    "# format 1\n",
    "print (\"my Name is {} and my age is {}\".format(name, age))\n",
    "\n",
    "# format 2 ==> esier\n",
    "print(f\"my Name is {name} and my age is {age}\")"
   ]
  },
  {
   "cell_type": "markdown",
   "metadata": {},
   "source": [
    "# 4. Multi Line string"
   ]
  },
  {
   "cell_type": "code",
   "execution_count": 30,
   "metadata": {},
   "outputs": [
    {
     "name": "stdout",
     "output_type": "stream",
     "text": [
      "Hi, I am SAIF ALMALIKI, I am computer engineer came from iraq\n",
      "Hi, I am SAIF ALMALIKI, I am computer \n",
      "engineer from Iraq\n",
      "Hi, I am SAIF ALMALIKI, I am computer engineer from Iraq, studying Master degree in Germany\n"
     ]
    }
   ],
   "source": [
    "# use \\\n",
    "str1 = \"Hi, I am SAIF ALMALIKI, I am \\\n",
    "computer engineer came from iraq\"\n",
    "print(str1)\n",
    "\n",
    "# use \"\"\"\n",
    "str2 = \"\"\"Hi, I am SAIF ALMALIKI, I am computer \n",
    "engineer from Iraq\"\"\"\n",
    "print(str2)\n",
    "\n",
    "# using (\" \") in each line\n",
    "str3 = (\"Hi, I am SAIF ALMALIKI, I am computer \"\n",
    "        \"engineer from Iraq, studying Master \"\n",
    "        \"degree in Germany\")\n",
    "print(str3)"
   ]
  },
  {
   "cell_type": "markdown",
   "metadata": {},
   "source": [
    "# 5. List"
   ]
  },
  {
   "cell_type": "code",
   "execution_count": 31,
   "metadata": {},
   "outputs": [
    {
     "name": "stdout",
     "output_type": "stream",
     "text": [
      "\n",
      " [7, 8]\n"
     ]
    }
   ],
   "source": [
    "a = [0, 1, 2, 3, 4, 5, 6, 7, 8, 9, 10]\n",
    "print('\\n', a[-4:-2])"
   ]
  },
  {
   "cell_type": "code",
   "execution_count": 32,
   "metadata": {},
   "outputs": [
    {
     "name": "stdout",
     "output_type": "stream",
     "text": [
      "\n",
      " [0, 2, 4, 6, 8, 10]\n"
     ]
    }
   ],
   "source": [
    "# print every 2 steps\n",
    "a = [0, 1, 2, 3, 4, 5, 6, 7, 8, 9, 10]\n",
    "print('\\n', a[::2])"
   ]
  },
  {
   "cell_type": "code",
   "execution_count": 33,
   "metadata": {},
   "outputs": [
    {
     "name": "stdout",
     "output_type": "stream",
     "text": [
      "\n",
      " [10, 9, 8, 7, 6, 5, 4, 3, 2, 1, 0]\n"
     ]
    }
   ],
   "source": [
    "# Revershe the list\n",
    "a = [0, 1, 2, 3, 4, 5, 6, 7, 8, 9, 10]\n",
    "print('\\n', a[::-1])"
   ]
  },
  {
   "cell_type": "code",
   "execution_count": 34,
   "metadata": {},
   "outputs": [
    {
     "name": "stdout",
     "output_type": "stream",
     "text": [
      "\n",
      " [10, 8, 6, 4, 2, 0]\n"
     ]
    }
   ],
   "source": [
    "# Revershe the list every 2 steps\n",
    "a = [0, 1, 2, 3, 4, 5, 6, 7, 8, 9, 10]\n",
    "print('\\n', a[::-2])"
   ]
  },
  {
   "cell_type": "code",
   "execution_count": 35,
   "metadata": {},
   "outputs": [
    {
     "name": "stdout",
     "output_type": "stream",
     "text": [
      "\n",
      " [1, 2, 0, 0, 4, 5]\n"
     ]
    }
   ],
   "source": [
    "# insert 2 zeros instead of index 2\n",
    "a = [1, 2, 3, 4, 5]\n",
    "a[2:3] = [0,0]\n",
    "print('\\n', a)"
   ]
  },
  {
   "cell_type": "code",
   "execution_count": 36,
   "metadata": {},
   "outputs": [
    {
     "name": "stdout",
     "output_type": "stream",
     "text": [
      "4\n"
     ]
    }
   ],
   "source": [
    "# Find the most frequent value in a list ==> which is number 4\n",
    "a = [1, 2, 3, 4, 2, 2, 3, 1, 4, 4, 4]\n",
    "print(max(set(a), key=a.count))"
   ]
  },
  {
   "cell_type": "markdown",
   "metadata": {},
   "source": [
    "# Permutations"
   ]
  },
  {
   "cell_type": "code",
   "execution_count": 37,
   "metadata": {},
   "outputs": [
    {
     "name": "stdout",
     "output_type": "stream",
     "text": [
      "(1, 2, 3, 4)  >  1234\n",
      "(1, 2, 4, 3)  >  1243\n",
      "(1, 3, 2, 4)  >  1324\n",
      "(1, 3, 4, 2)  >  1342\n",
      "(1, 4, 2, 3)  >  1423\n",
      "(1, 4, 3, 2)  >  1432\n",
      "(2, 1, 3, 4)  >  2134\n",
      "(2, 1, 4, 3)  >  2143\n",
      "(2, 3, 1, 4)  >  2314\n",
      "(2, 3, 4, 1)  >  2341\n",
      "(2, 4, 1, 3)  >  2413\n",
      "(2, 4, 3, 1)  >  2431\n",
      "(3, 1, 2, 4)  >  3124\n",
      "(3, 1, 4, 2)  >  3142\n",
      "(3, 2, 1, 4)  >  3214\n",
      "(3, 2, 4, 1)  >  3241\n",
      "(3, 4, 1, 2)  >  3412\n",
      "(3, 4, 2, 1)  >  3421\n",
      "(4, 1, 2, 3)  >  4123\n",
      "(4, 1, 3, 2)  >  4132\n",
      "(4, 2, 1, 3)  >  4213\n",
      "(4, 2, 3, 1)  >  4231\n",
      "(4, 3, 1, 2)  >  4312\n",
      "(4, 3, 2, 1)  >  4321\n"
     ]
    }
   ],
   "source": [
    "# show all possiblities of a list\n",
    "a = [1, 2, 3, 4]\n",
    "\n",
    "import itertools\n",
    "for p in itertools.permutations(a):\n",
    "    print(p, \" > \", ''.join(str(x) for x in p))"
   ]
  },
  {
   "cell_type": "markdown",
   "metadata": {},
   "source": [
    "# Chain"
   ]
  },
  {
   "cell_type": "code",
   "execution_count": 38,
   "metadata": {},
   "outputs": [
    {
     "name": "stdout",
     "output_type": "stream",
     "text": [
      "[1, 2, 3, 4, 5, 6, 7, 8]\n"
     ]
    }
   ],
   "source": [
    "# Get a single list from many sublist\n",
    "a = [[1, 2], [3, 4], [5, 6], [7, 8]]\n",
    "\n",
    "import itertools\n",
    "print(list(itertools.chain.from_iterable(a)))"
   ]
  },
  {
   "cell_type": "code",
   "execution_count": 39,
   "metadata": {},
   "outputs": [
    {
     "name": "stdout",
     "output_type": "stream",
     "text": [
      "[-1, -2, 1, 2, 3, 4, 5, 6, 7, 25, 35]\n"
     ]
    }
   ],
   "source": [
    "# unify the list containing lists and tuples (Collapse)\n",
    "a = [[-1, -2], [1, 2, 3, [4, (5, [6, 7])]], [25, 35]]\n",
    "\n",
    "import more_itertools\n",
    "print(list(more_itertools.collapse(a)))"
   ]
  },
  {
   "cell_type": "markdown",
   "metadata": {},
   "source": [
    "# Anagrams"
   ]
  },
  {
   "cell_type": "code",
   "execution_count": 40,
   "metadata": {},
   "outputs": [
    {
     "name": "stdout",
     "output_type": "stream",
     "text": [
      "Counter({'e': 2, 'g': 1, 'k': 1, 's': 1})\n",
      "Have the same words:  True\n",
      "Have the same words:  False\n"
     ]
    }
   ],
   "source": [
    "from collections import Counter\n",
    "\n",
    "# count the frequent of each character in a word\n",
    "print (Counter('geeks'))\n",
    "\n",
    "# Saame characters in tow words\n",
    "print (\"Have the same words: \", Counter('geek') == Counter('eegk'))\n",
    "\n",
    "# different characters in two words\n",
    "print (\"Have the same words: \", Counter('geek') == Counter('peek'))"
   ]
  },
  {
   "cell_type": "markdown",
   "metadata": {},
   "source": [
    "# Heapq"
   ]
  },
  {
   "cell_type": "code",
   "execution_count": 41,
   "metadata": {},
   "outputs": [
    {
     "name": "stdout",
     "output_type": "stream",
     "text": [
      "[0, 0, 2, 5, 6]\n",
      "[99, 98, 98, 97, 96]\n"
     ]
    }
   ],
   "source": [
    "# Get smallest or largest numbers of a list\n",
    "\n",
    "import random\n",
    "import heapq\n",
    "\n",
    "# Generate a list of random numbers\n",
    "a = [random.randint(0, 100) for _ in range(100)]\n",
    "\n",
    "# print the smallest 5 number in the list\n",
    "print(heapq.nsmallest(5, a))\n",
    "\n",
    "# print the highest 5 number in the list\n",
    "print(heapq.nlargest(5, a))"
   ]
  },
  {
   "cell_type": "markdown",
   "metadata": {},
   "source": [
    "# Dictionary"
   ]
  },
  {
   "cell_type": "code",
   "execution_count": 42,
   "metadata": {},
   "outputs": [
    {
     "name": "stdout",
     "output_type": "stream",
     "text": [
      "{'a': '1', 'b': '2', 'c': '3', 'd': '4'}\n"
     ]
    }
   ],
   "source": [
    "# collect 2 dictionaries in one single dictionary\n",
    "x = {'a':'1', 'b':'2'}\n",
    "y = {'c':'3', 'd':'4'}\n",
    "z={**x, **y}\n",
    "print(z)"
   ]
  },
  {
   "cell_type": "code",
   "execution_count": 43,
   "metadata": {},
   "outputs": [
    {
     "name": "stdout",
     "output_type": "stream",
     "text": [
      "{1: 100, 2: 200, 3: 300}\n"
     ]
    }
   ],
   "source": [
    "# convert 2 tuples to a single dictionary\n",
    "t1 = (1, 2, 3)\n",
    "t2 = (100, 200, 300)\n",
    "z= dict(zip(t1, t2))\n",
    "print(z)"
   ]
  },
  {
   "cell_type": "code",
   "execution_count": 44,
   "metadata": {},
   "outputs": [
    {
     "name": "stdout",
     "output_type": "stream",
     "text": [
      "Generated set {0, 2, 4, 6, 8, 10, 12, 14, 16, 18}\n",
      "Generated dict {0: 0, 1: 5, 2: 10, 3: 15, 4: 20, 5: 25, 6: 30, 7: 35, 8: 40, 9: 45}\n"
     ]
    }
   ],
   "source": [
    "# Generate a set\n",
    "test_set = {i * 2 for i in range(10)}\n",
    "print(\"Generated set\", test_set)\n",
    "\n",
    "# generate dict\n",
    "test_dict = {i: i *5 for i in range(10)}\n",
    "print(\"Generated dict\", test_dict)"
   ]
  },
  {
   "cell_type": "code",
   "execution_count": 45,
   "metadata": {},
   "outputs": [
    {
     "name": "stdout",
     "output_type": "stream",
     "text": [
      "12\n",
      "6\n"
     ]
    }
   ],
   "source": [
    "# Store expressions inside dict\n",
    "calc= {\n",
    "    'sum': lambda x,y: x+y,\n",
    "    'sub': lambda x,y: x-y\n",
    "}\n",
    "\n",
    "print(calc['sum'](9,3))\n",
    "print(calc['sub'](9,3))"
   ]
  },
  {
   "cell_type": "markdown",
   "metadata": {},
   "source": [
    "# Passinge Values to Vectors"
   ]
  },
  {
   "cell_type": "code",
   "execution_count": 46,
   "metadata": {},
   "outputs": [
    {
     "name": "stdout",
     "output_type": "stream",
     "text": [
      "(1, 0, 1)\n",
      "1 0 1\n",
      "1 0 1\n",
      "1 0 1\n"
     ]
    }
   ],
   "source": [
    "def myfunc(x, y, z):\n",
    "    print(x, y, z)\n",
    "    \n",
    "tuple_vec = (1,0,1)\n",
    "dict_vec = {'x': 1, 'y':0, 'z': 1}\n",
    "\n",
    "print(tuple_vec)    # print the tuple vector as vector\n",
    "print(*tuple_vec)   # print only the values of tuple\n",
    "\n",
    "myfunc(*tuple_vec)  # send only the velues of tuple to the function \n",
    "myfunc(**dict_vec)  # send only the values of dictionary to the function"
   ]
  },
  {
   "cell_type": "code",
   "execution_count": 47,
   "metadata": {},
   "outputs": [
    {
     "name": "stdout",
     "output_type": "stream",
     "text": [
      "Two lines of code: 8\n",
      "Single line of code: 8\n"
     ]
    }
   ],
   "source": [
    "# Two lines of code with lambda\n",
    "add = lambda x,y: x+y\n",
    "print(\"Two lines of code:\", add(5,3))\n",
    "\n",
    "# single line of code with lambda\n",
    "print(\"Single line of code:\",(lambda x,y:x+y)(5,3))"
   ]
  },
  {
   "cell_type": "markdown",
   "metadata": {},
   "source": [
    "# shortcut for if-else statemsnt"
   ]
  },
  {
   "cell_type": "code",
   "execution_count": 48,
   "metadata": {},
   "outputs": [
    {
     "name": "stdout",
     "output_type": "stream",
     "text": [
      "[0, 1, 16, 81, 256, 625, 36, 49, 64, 81]\n"
     ]
    }
   ],
   "source": [
    "# if m > 5 ==> m**2\n",
    "# if m <=5 ==> m**4\n",
    "print ([m**2 if m > 5 else m**4 for m in range(10)])"
   ]
  },
  {
   "cell_type": "code",
   "execution_count": 49,
   "metadata": {},
   "outputs": [
    {
     "name": "stdout",
     "output_type": "stream",
     "text": [
      "20\n"
     ]
    }
   ],
   "source": [
    "# if y==9 ==> x = 10 else x = 20\n",
    "y=6\n",
    "x = 10 if (y==9) else 20\n",
    "print (x)"
   ]
  },
  {
   "cell_type": "code",
   "execution_count": 50,
   "metadata": {},
   "outputs": [
    {
     "name": "stdout",
     "output_type": "stream",
     "text": [
      "23\n"
     ]
    }
   ],
   "source": [
    "# find the smallest\n",
    "x, y = 23, 50\n",
    "smallest = x if x < y else y\n",
    "print(smallest)"
   ]
  },
  {
   "cell_type": "code",
   "execution_count": 51,
   "metadata": {},
   "outputs": [
    {
     "name": "stdout",
     "output_type": "stream",
     "text": [
      "[2, 4, 6, 8, 10]\n"
     ]
    }
   ],
   "source": [
    "# store even number only in range (1,11)\n",
    "evenList = [i for i in range(1, 11) if i % 2 ==0]\n",
    "print(evenList)"
   ]
  },
  {
   "cell_type": "markdown",
   "metadata": {},
   "source": [
    "# Imported Library path"
   ]
  },
  {
   "cell_type": "code",
   "execution_count": 52,
   "metadata": {},
   "outputs": [
    {
     "name": "stdout",
     "output_type": "stream",
     "text": [
      "<module 'threading' from 'C:\\\\Users\\\\saif\\\\Anaconda3\\\\lib\\\\threading.py'>\n"
     ]
    }
   ],
   "source": [
    "# Print the path of imported library\n",
    "import threading\n",
    "print(threading)"
   ]
  },
  {
   "cell_type": "code",
   "execution_count": 53,
   "metadata": {},
   "outputs": [
    {
     "name": "stdout",
     "output_type": "stream",
     "text": [
      "<module 'socket' from 'C:\\\\Users\\\\saif\\\\Anaconda3\\\\lib\\\\socket.py'>\n"
     ]
    }
   ],
   "source": [
    "import socket\n",
    "print(socket)"
   ]
  },
  {
   "cell_type": "markdown",
   "metadata": {},
   "source": [
    "# Reverse the List/ String"
   ]
  },
  {
   "cell_type": "code",
   "execution_count": 54,
   "metadata": {},
   "outputs": [
    {
     "name": "stdout",
     "output_type": "stream",
     "text": [
      "nohtyp evol I\n"
     ]
    }
   ],
   "source": [
    "print(\"I love python\"[::-1])"
   ]
  },
  {
   "cell_type": "markdown",
   "metadata": {},
   "source": [
    "# Enumeration"
   ]
  },
  {
   "cell_type": "code",
   "execution_count": 55,
   "metadata": {},
   "outputs": [
    {
     "name": "stdout",
     "output_type": "stream",
     "text": [
      "0 ==> 1\n",
      "1 ==> 2\n",
      "2 ==> 3\n",
      "3 ==> 4\n",
      "4 ==> 5\n",
      "5 ==> 6\n",
      "6 ==> 7\n",
      "7 ==> 8\n",
      "8 ==> 9\n",
      "9 ==> 10\n"
     ]
    }
   ],
   "source": [
    "# print the index and value of a List\n",
    "\n",
    "my_list=[1,2,3,4,5,6,7,8,9,10]\n",
    "for i , value in enumerate(my_list):\n",
    "    print(i, '==>', value)"
   ]
  },
  {
   "cell_type": "code",
   "execution_count": 56,
   "metadata": {},
   "outputs": [
    {
     "name": "stdout",
     "output_type": "stream",
     "text": [
      "[(2, 'a'), (3, 'b'), (4, 'c'), (5, 'd'), (6, 'e'), (7, 'f')]\n"
     ]
    }
   ],
   "source": [
    "# start the index from 2\n",
    "print(list(enumerate(\"abcdef\", 2)))\n"
   ]
  },
  {
   "cell_type": "code",
   "execution_count": 57,
   "metadata": {},
   "outputs": [
    {
     "name": "stdout",
     "output_type": "stream",
     "text": [
      "0 1 2 3\n"
     ]
    }
   ],
   "source": [
    "# Add range to variable\n",
    "x , y, z , w = range(4)\n",
    "print(x, y, z, w)"
   ]
  },
  {
   "cell_type": "markdown",
   "metadata": {},
   "source": [
    "# Zipping Two List"
   ]
  },
  {
   "cell_type": "code",
   "execution_count": 58,
   "metadata": {},
   "outputs": [
    {
     "name": "stdout",
     "output_type": "stream",
     "text": [
      "a 4\n",
      "b 6\n",
      "c 5\n",
      "d 3\n",
      "e 5\n",
      "f 8\n"
     ]
    }
   ],
   "source": [
    "list1 = ['a', 'b', 'c', 'd', 'e', 'f']\n",
    "list2 = [4, 6, 5, 3, 5, 8]\n",
    "for x, y in zip(list1, list2):\n",
    "    print(x, y)"
   ]
  },
  {
   "cell_type": "code",
   "execution_count": 59,
   "metadata": {},
   "outputs": [
    {
     "name": "stdout",
     "output_type": "stream",
     "text": [
      "['__add__', '__class__', '__contains__', '__delattr__', '__delitem__', '__dir__', '__doc__', '__eq__', '__format__', '__ge__', '__getattribute__', '__getitem__', '__gt__', '__hash__', '__iadd__', '__imul__', '__init__', '__init_subclass__', '__iter__', '__le__', '__len__', '__lt__', '__mul__', '__ne__', '__new__', '__reduce__', '__reduce_ex__', '__repr__', '__reversed__', '__rmul__', '__setattr__', '__setitem__', '__sizeof__', '__str__', '__subclasshook__', 'append', 'clear', 'copy', 'count', 'extend', 'index', 'insert', 'pop', 'remove', 'reverse', 'sort']\n"
     ]
    }
   ],
   "source": [
    "# Dir: Get all available function that can apply on this type\n",
    "list1=['a', 5, 9, 'u', 9,'d']\n",
    "print(dir(list1))"
   ]
  },
  {
   "cell_type": "code",
   "execution_count": null,
   "metadata": {},
   "outputs": [],
   "source": []
  }
 ],
 "metadata": {
  "kernelspec": {
   "display_name": "Python 3.7.6 64-bit ('saif': virtualenv)",
   "language": "python",
   "name": "python37664bitsaifvirtualenv69b2a53a85384e0e804ae58727fc56a1"
  },
  "language_info": {
   "codemirror_mode": {
    "name": "ipython",
    "version": 3
   },
   "file_extension": ".py",
   "mimetype": "text/x-python",
   "name": "python",
   "nbconvert_exporter": "python",
   "pygments_lexer": "ipython3",
   "version": "3.7.6"
  }
 },
 "nbformat": 4,
 "nbformat_minor": 4
}
